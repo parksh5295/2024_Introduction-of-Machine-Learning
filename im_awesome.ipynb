{
 "cells": [
  {
   "cell_type": "code",
   "execution_count": 2,
   "metadata": {},
   "outputs": [],
   "source": [
    "import pandas as pd\n",
    "import numpy as np\n",
    "from sklearn.model_selection import train_test_split\n",
    "from sklearn.preprocessing import StandardScaler, LabelEncoder\n",
    "from sklearn.ensemble import RandomForestRegressor, GradientBoostingClassifier\n",
    "from sklearn.tree import DecisionTreeClassifier\n",
    "from sklearn.decomposition import PCA\n",
    "from sklearn.cluster import KMeans\n",
    "from sklearn.pipeline import Pipeline\n",
    "from sklearn.metrics import mean_squared_error, accuracy_score, classification_report\n",
    "import matplotlib.pyplot as plt\n"
   ]
  },
  {
   "cell_type": "code",
   "execution_count": 3,
   "metadata": {},
   "outputs": [
    {
     "data": {
      "text/html": [
       "<div>\n",
       "<style scoped>\n",
       "    .dataframe tbody tr th:only-of-type {\n",
       "        vertical-align: middle;\n",
       "    }\n",
       "\n",
       "    .dataframe tbody tr th {\n",
       "        vertical-align: top;\n",
       "    }\n",
       "\n",
       "    .dataframe thead th {\n",
       "        text-align: right;\n",
       "    }\n",
       "</style>\n",
       "<table border=\"1\" class=\"dataframe\">\n",
       "  <thead>\n",
       "    <tr style=\"text-align: right;\">\n",
       "      <th></th>\n",
       "      <th>patch</th>\n",
       "      <th>side</th>\n",
       "      <th>position</th>\n",
       "      <th>playername</th>\n",
       "      <th>champion</th>\n",
       "      <th>gamelength</th>\n",
       "      <th>result</th>\n",
       "      <th>kills</th>\n",
       "      <th>deaths</th>\n",
       "      <th>assists</th>\n",
       "      <th>...</th>\n",
       "      <th>inhibitors</th>\n",
       "      <th>opp_inhibitors</th>\n",
       "      <th>dpm</th>\n",
       "      <th>damagetakenperminute</th>\n",
       "      <th>damagemitigatedperminute</th>\n",
       "      <th>wpm</th>\n",
       "      <th>wcpm</th>\n",
       "      <th>vspm</th>\n",
       "      <th>earned gpm</th>\n",
       "      <th>cspm</th>\n",
       "    </tr>\n",
       "  </thead>\n",
       "  <tbody>\n",
       "    <tr>\n",
       "      <th>0</th>\n",
       "      <td>13.01</td>\n",
       "      <td>0</td>\n",
       "      <td>0</td>\n",
       "      <td>0</td>\n",
       "      <td>0</td>\n",
       "      <td>2612</td>\n",
       "      <td>1</td>\n",
       "      <td>4</td>\n",
       "      <td>0</td>\n",
       "      <td>6</td>\n",
       "      <td>...</td>\n",
       "      <td>1.0</td>\n",
       "      <td>0.0</td>\n",
       "      <td>328.0934</td>\n",
       "      <td>719.5406</td>\n",
       "      <td>878.9127</td>\n",
       "      <td>0.4594</td>\n",
       "      <td>0.1149</td>\n",
       "      <td>1.1256</td>\n",
       "      <td>304.3874</td>\n",
       "      <td>9.1654</td>\n",
       "    </tr>\n",
       "    <tr>\n",
       "      <th>1</th>\n",
       "      <td>13.01</td>\n",
       "      <td>0</td>\n",
       "      <td>1</td>\n",
       "      <td>1</td>\n",
       "      <td>1</td>\n",
       "      <td>2612</td>\n",
       "      <td>1</td>\n",
       "      <td>2</td>\n",
       "      <td>2</td>\n",
       "      <td>4</td>\n",
       "      <td>...</td>\n",
       "      <td>0.0</td>\n",
       "      <td>0.0</td>\n",
       "      <td>142.8560</td>\n",
       "      <td>847.3047</td>\n",
       "      <td>1513.9663</td>\n",
       "      <td>0.4135</td>\n",
       "      <td>0.2527</td>\n",
       "      <td>1.4012</td>\n",
       "      <td>148.8055</td>\n",
       "      <td>3.6524</td>\n",
       "    </tr>\n",
       "    <tr>\n",
       "      <th>2</th>\n",
       "      <td>13.01</td>\n",
       "      <td>0</td>\n",
       "      <td>2</td>\n",
       "      <td>2</td>\n",
       "      <td>2</td>\n",
       "      <td>2612</td>\n",
       "      <td>1</td>\n",
       "      <td>2</td>\n",
       "      <td>2</td>\n",
       "      <td>11</td>\n",
       "      <td>...</td>\n",
       "      <td>0.0</td>\n",
       "      <td>0.0</td>\n",
       "      <td>620.8576</td>\n",
       "      <td>365.3522</td>\n",
       "      <td>323.7289</td>\n",
       "      <td>0.5283</td>\n",
       "      <td>0.2297</td>\n",
       "      <td>1.1256</td>\n",
       "      <td>232.4196</td>\n",
       "      <td>7.7412</td>\n",
       "    </tr>\n",
       "    <tr>\n",
       "      <th>3</th>\n",
       "      <td>13.01</td>\n",
       "      <td>0</td>\n",
       "      <td>3</td>\n",
       "      <td>3</td>\n",
       "      <td>3</td>\n",
       "      <td>2612</td>\n",
       "      <td>1</td>\n",
       "      <td>5</td>\n",
       "      <td>1</td>\n",
       "      <td>7</td>\n",
       "      <td>...</td>\n",
       "      <td>1.0</td>\n",
       "      <td>0.0</td>\n",
       "      <td>964.8928</td>\n",
       "      <td>398.4533</td>\n",
       "      <td>234.3721</td>\n",
       "      <td>0.3905</td>\n",
       "      <td>0.1378</td>\n",
       "      <td>1.0796</td>\n",
       "      <td>269.4028</td>\n",
       "      <td>8.4992</td>\n",
       "    </tr>\n",
       "    <tr>\n",
       "      <th>4</th>\n",
       "      <td>13.01</td>\n",
       "      <td>0</td>\n",
       "      <td>4</td>\n",
       "      <td>4</td>\n",
       "      <td>4</td>\n",
       "      <td>2612</td>\n",
       "      <td>1</td>\n",
       "      <td>0</td>\n",
       "      <td>2</td>\n",
       "      <td>10</td>\n",
       "      <td>...</td>\n",
       "      <td>0.0</td>\n",
       "      <td>0.0</td>\n",
       "      <td>130.1991</td>\n",
       "      <td>360.2757</td>\n",
       "      <td>284.1501</td>\n",
       "      <td>1.1945</td>\n",
       "      <td>0.1838</td>\n",
       "      <td>2.4349</td>\n",
       "      <td>73.7825</td>\n",
       "      <td>0.4824</td>\n",
       "    </tr>\n",
       "  </tbody>\n",
       "</table>\n",
       "<p>5 rows × 26 columns</p>\n",
       "</div>"
      ],
      "text/plain": [
       "   patch  side  position  playername  champion  gamelength  result  kills  \\\n",
       "0  13.01     0         0           0         0        2612       1      4   \n",
       "1  13.01     0         1           1         1        2612       1      2   \n",
       "2  13.01     0         2           2         2        2612       1      2   \n",
       "3  13.01     0         3           3         3        2612       1      5   \n",
       "4  13.01     0         4           4         4        2612       1      0   \n",
       "\n",
       "   deaths  assists  ...  inhibitors  opp_inhibitors       dpm  \\\n",
       "0       0        6  ...         1.0             0.0  328.0934   \n",
       "1       2        4  ...         0.0             0.0  142.8560   \n",
       "2       2       11  ...         0.0             0.0  620.8576   \n",
       "3       1        7  ...         1.0             0.0  964.8928   \n",
       "4       2       10  ...         0.0             0.0  130.1991   \n",
       "\n",
       "   damagetakenperminute  damagemitigatedperminute     wpm    wcpm    vspm  \\\n",
       "0              719.5406                  878.9127  0.4594  0.1149  1.1256   \n",
       "1              847.3047                 1513.9663  0.4135  0.2527  1.4012   \n",
       "2              365.3522                  323.7289  0.5283  0.2297  1.1256   \n",
       "3              398.4533                  234.3721  0.3905  0.1378  1.0796   \n",
       "4              360.2757                  284.1501  1.1945  0.1838  2.4349   \n",
       "\n",
       "   earned gpm    cspm  \n",
       "0    304.3874  9.1654  \n",
       "1    148.8055  3.6524  \n",
       "2    232.4196  7.7412  \n",
       "3    269.4028  8.4992  \n",
       "4     73.7825  0.4824  \n",
       "\n",
       "[5 rows x 26 columns]"
      ]
     },
     "execution_count": 3,
     "metadata": {},
     "output_type": "execute_result"
    }
   ],
   "source": [
    "league_data = pd.read_csv('./preprocessed_2023_LoL_esports_match_data_from_OraclesElixir.csv')\n",
    "league_data.head()"
   ]
  },
  {
   "cell_type": "code",
   "execution_count": 4,
   "metadata": {},
   "outputs": [
    {
     "data": {
      "image/png": "[encoded data removed]",
      "text/plain": [
       "<Figure size 640x480 with 1 Axes>"
      ]
     },
     "metadata": {},
     "output_type": "display_data"
    }
   ],
   "source": [
    "plt.hist(league_data['earned gpm'], bins=30, edgecolor='black')\n",
    "plt.xlabel('Earned GPM')\n",
    "plt.ylabel('Frequency')\n",
    "plt.title('Distribution of Earned GPM')\n",
    "plt.show()\n"
   ]
  },
  {
   "cell_type": "code",
   "execution_count": 5,
   "metadata": {},
   "outputs": [
    {
     "name": "stderr",
     "output_type": "stream",
     "text": [
      "C:\\Users\\Lenovo\\AppData\\Local\\Packages\\PythonSoftwareFoundation.Python.3.10_qbz5n2kfra8p0\\LocalCache\\local-packages\\Python310\\site-packages\\sklearn\\cluster\\_kmeans.py:870: FutureWarning: The default value of `n_init` will change from 10 to 'auto' in 1.4. Set the value of `n_init` explicitly to suppress the warning\n",
      "  warnings.warn(\n"
     ]
    },
    {
     "data": {
      "image/png": "[encoded data removed]",
      "text/plain": [
       "<Figure size 640x480 with 1 Axes>"
      ]
     },
     "metadata": {},
     "output_type": "display_data"
    }
   ],
   "source": [
    "kmeans = KMeans(n_clusters=3, random_state=42)\n",
    "league_data['gpm_range'] = kmeans.fit_predict(league_data[['earned gpm']])\n",
    "plt.scatter(league_data['earned gpm'], league_data['gpm_range'], c=league_data['gpm_range'], cmap='viridis')\n",
    "plt.xlabel('Earned GPM')\n",
    "plt.ylabel('Cluster')\n",
    "plt.title('K-Means Clustering of Earned GPM')\n",
    "plt.show()\n"
   ]
  },
  {
   "cell_type": "code",
   "execution_count": 8,
   "metadata": {},
   "outputs": [
    {
     "name": "stdout",
     "output_type": "stream",
     "text": [
      "<generator object <genexpr> at 0x0000017DAC9FA490>\n",
      "Boundary between low and medium: 179.30\n",
      "Boundary between medium and high: 287.11\n"
     ]
    }
   ],
   "source": [
    "centers = np.sort(kmeans.cluster_centers_.flatten())\n",
    "\n",
    "boundaries = [(centers[i] + centers[i+1])/2 for i in range(len(centers)-1)]\n",
    "\n",
    "def gpm_range(gpm):\n",
    "    if gpm < boundaries[0]:\n",
    "        return 'low'\n",
    "    elif boundaries[0] <= gpm < boundaries[1]:\n",
    "        return 'medium'\n",
    "    else:\n",
    "        return 'high'\n",
    "\n",
    "league_data['gpm_range'] = league_data['earned gpm'].apply(gpm_range)\n",
    "\n",
    "print(f\"Boundary between low and medium: {boundaries[0]:.2f}\")\n",
    "print(f\"Boundary between medium and high: {boundaries[1]:.2f}\")"
   ]
  },
  {
   "cell_type": "code",
   "execution_count": 46,
   "metadata": {},
   "outputs": [
    {
     "data": {
      "text/html": [
       "<div>\n",
       "<style scoped>\n",
       "    .dataframe tbody tr th:only-of-type {\n",
       "        vertical-align: middle;\n",
       "    }\n",
       "\n",
       "    .dataframe tbody tr th {\n",
       "        vertical-align: top;\n",
       "    }\n",
       "\n",
       "    .dataframe thead th {\n",
       "        text-align: right;\n",
       "    }\n",
       "</style>\n",
       "<table border=\"1\" class=\"dataframe\">\n",
       "  <thead>\n",
       "    <tr style=\"text-align: right;\">\n",
       "      <th></th>\n",
       "      <th>patch</th>\n",
       "      <th>side</th>\n",
       "      <th>position</th>\n",
       "      <th>playername</th>\n",
       "      <th>champion</th>\n",
       "      <th>gamelength</th>\n",
       "      <th>result</th>\n",
       "      <th>kills</th>\n",
       "      <th>deaths</th>\n",
       "      <th>assists</th>\n",
       "      <th>...</th>\n",
       "      <th>opp_inhibitors</th>\n",
       "      <th>dpm</th>\n",
       "      <th>damagetakenperminute</th>\n",
       "      <th>damagemitigatedperminute</th>\n",
       "      <th>wpm</th>\n",
       "      <th>wcpm</th>\n",
       "      <th>vspm</th>\n",
       "      <th>earned gpm</th>\n",
       "      <th>cspm</th>\n",
       "      <th>gpm_range</th>\n",
       "    </tr>\n",
       "  </thead>\n",
       "  <tbody>\n",
       "    <tr>\n",
       "      <th>0</th>\n",
       "      <td>13.01</td>\n",
       "      <td>0</td>\n",
       "      <td>0</td>\n",
       "      <td>0</td>\n",
       "      <td>0</td>\n",
       "      <td>2612</td>\n",
       "      <td>1</td>\n",
       "      <td>4</td>\n",
       "      <td>0</td>\n",
       "      <td>6</td>\n",
       "      <td>...</td>\n",
       "      <td>0.0</td>\n",
       "      <td>328.0934</td>\n",
       "      <td>719.5406</td>\n",
       "      <td>878.9127</td>\n",
       "      <td>0.4594</td>\n",
       "      <td>0.1149</td>\n",
       "      <td>1.1256</td>\n",
       "      <td>304.3874</td>\n",
       "      <td>9.1654</td>\n",
       "      <td>high</td>\n",
       "    </tr>\n",
       "    <tr>\n",
       "      <th>1</th>\n",
       "      <td>13.01</td>\n",
       "      <td>0</td>\n",
       "      <td>1</td>\n",
       "      <td>1</td>\n",
       "      <td>1</td>\n",
       "      <td>2612</td>\n",
       "      <td>1</td>\n",
       "      <td>2</td>\n",
       "      <td>2</td>\n",
       "      <td>4</td>\n",
       "      <td>...</td>\n",
       "      <td>0.0</td>\n",
       "      <td>142.8560</td>\n",
       "      <td>847.3047</td>\n",
       "      <td>1513.9663</td>\n",
       "      <td>0.4135</td>\n",
       "      <td>0.2527</td>\n",
       "      <td>1.4012</td>\n",
       "      <td>148.8055</td>\n",
       "      <td>3.6524</td>\n",
       "      <td>low</td>\n",
       "    </tr>\n",
       "    <tr>\n",
       "      <th>2</th>\n",
       "      <td>13.01</td>\n",
       "      <td>0</td>\n",
       "      <td>2</td>\n",
       "      <td>2</td>\n",
       "      <td>2</td>\n",
       "      <td>2612</td>\n",
       "      <td>1</td>\n",
       "      <td>2</td>\n",
       "      <td>2</td>\n",
       "      <td>11</td>\n",
       "      <td>...</td>\n",
       "      <td>0.0</td>\n",
       "      <td>620.8576</td>\n",
       "      <td>365.3522</td>\n",
       "      <td>323.7289</td>\n",
       "      <td>0.5283</td>\n",
       "      <td>0.2297</td>\n",
       "      <td>1.1256</td>\n",
       "      <td>232.4196</td>\n",
       "      <td>7.7412</td>\n",
       "      <td>medium</td>\n",
       "    </tr>\n",
       "    <tr>\n",
       "      <th>3</th>\n",
       "      <td>13.01</td>\n",
       "      <td>0</td>\n",
       "      <td>3</td>\n",
       "      <td>3</td>\n",
       "      <td>3</td>\n",
       "      <td>2612</td>\n",
       "      <td>1</td>\n",
       "      <td>5</td>\n",
       "      <td>1</td>\n",
       "      <td>7</td>\n",
       "      <td>...</td>\n",
       "      <td>0.0</td>\n",
       "      <td>964.8928</td>\n",
       "      <td>398.4533</td>\n",
       "      <td>234.3721</td>\n",
       "      <td>0.3905</td>\n",
       "      <td>0.1378</td>\n",
       "      <td>1.0796</td>\n",
       "      <td>269.4028</td>\n",
       "      <td>8.4992</td>\n",
       "      <td>medium</td>\n",
       "    </tr>\n",
       "    <tr>\n",
       "      <th>4</th>\n",
       "      <td>13.01</td>\n",
       "      <td>0</td>\n",
       "      <td>4</td>\n",
       "      <td>4</td>\n",
       "      <td>4</td>\n",
       "      <td>2612</td>\n",
       "      <td>1</td>\n",
       "      <td>0</td>\n",
       "      <td>2</td>\n",
       "      <td>10</td>\n",
       "      <td>...</td>\n",
       "      <td>0.0</td>\n",
       "      <td>130.1991</td>\n",
       "      <td>360.2757</td>\n",
       "      <td>284.1501</td>\n",
       "      <td>1.1945</td>\n",
       "      <td>0.1838</td>\n",
       "      <td>2.4349</td>\n",
       "      <td>73.7825</td>\n",
       "      <td>0.4824</td>\n",
       "      <td>low</td>\n",
       "    </tr>\n",
       "  </tbody>\n",
       "</table>\n",
       "<p>5 rows × 27 columns</p>\n",
       "</div>"
      ],
      "text/plain": [
       "   patch  side  position  playername  champion  gamelength  result  kills  \\\n",
       "0  13.01     0         0           0         0        2612       1      4   \n",
       "1  13.01     0         1           1         1        2612       1      2   \n",
       "2  13.01     0         2           2         2        2612       1      2   \n",
       "3  13.01     0         3           3         3        2612       1      5   \n",
       "4  13.01     0         4           4         4        2612       1      0   \n",
       "\n",
       "   deaths  assists  ...  opp_inhibitors       dpm  damagetakenperminute  \\\n",
       "0       0        6  ...             0.0  328.0934              719.5406   \n",
       "1       2        4  ...             0.0  142.8560              847.3047   \n",
       "2       2       11  ...             0.0  620.8576              365.3522   \n",
       "3       1        7  ...             0.0  964.8928              398.4533   \n",
       "4       2       10  ...             0.0  130.1991              360.2757   \n",
       "\n",
       "   damagemitigatedperminute     wpm    wcpm    vspm  earned gpm    cspm  \\\n",
       "0                  878.9127  0.4594  0.1149  1.1256    304.3874  9.1654   \n",
       "1                 1513.9663  0.4135  0.2527  1.4012    148.8055  3.6524   \n",
       "2                  323.7289  0.5283  0.2297  1.1256    232.4196  7.7412   \n",
       "3                  234.3721  0.3905  0.1378  1.0796    269.4028  8.4992   \n",
       "4                  284.1501  1.1945  0.1838  2.4349     73.7825  0.4824   \n",
       "\n",
       "   gpm_range  \n",
       "0       high  \n",
       "1        low  \n",
       "2     medium  \n",
       "3     medium  \n",
       "4        low  \n",
       "\n",
       "[5 rows x 27 columns]"
      ]
     },
     "execution_count": 46,
     "metadata": {},
     "output_type": "execute_result"
    }
   ],
   "source": [
    "features = ['champion', 'kills', 'deaths', 'assists', 'firstbloodkill', 'firstbloodassist', 'firstbloodvictim']\n",
    "target = 'earned gpm'\n",
    "\n",
    "def gpm_range(gpm):\n",
    "    if gpm < 179.3:\n",
    "        return 'low'\n",
    "    elif 179.3 <= gpm < 287.1:\n",
    "        return 'medium'\n",
    "    else:\n",
    "        return 'high'\n",
    "\n",
    "league_data['gpm_range'] = league_data['earned gpm'].apply(gpm_range)\n",
    "league_data.head()"
   ]
  },
  {
   "cell_type": "code",
   "execution_count": 47,
   "metadata": {},
   "outputs": [],
   "source": [
    "#remove all rows where \"position\" is NOT 4\n",
    "league_data = league_data[league_data['position'] != 4]\n",
    "\n",
    "sample_set = league_data.sample(frac=0.1, random_state=42)\n",
    "league_data = league_data[~league_data.index.isin(sample_set.index)]\n"
   ]
  },
  {
   "cell_type": "code",
   "execution_count": 48,
   "metadata": {},
   "outputs": [],
   "source": [
    "X = league_data[['champion', 'kills', 'deaths', 'assists', 'firstbloodkill', 'firstbloodassist', 'firstbloodvictim']]\n",
    "y_reg = league_data['earned gpm']\n",
    "y_clf = league_data['gpm_range']\n",
    "\n",
    "X_train, X_test, y_reg_train, y_reg_test, y_clf_train, y_clf_test = train_test_split(X, y_reg, y_clf, test_size=0.2, random_state=42)"
   ]
  },
  {
   "cell_type": "code",
   "execution_count": 49,
   "metadata": {},
   "outputs": [],
   "source": [
    "reg_pipeline = Pipeline([\n",
    "    ('scaler', StandardScaler()),\n",
    "    ('pca', PCA(n_components=4)),  # Applying dimensionality reduction\n",
    "    ('regressor', RandomForestRegressor(n_estimators=100, random_state=42))\n",
    "])"
   ]
  },
  {
   "cell_type": "code",
   "execution_count": 50,
   "metadata": {},
   "outputs": [
    {
     "data": {
      "text/html": [
       "<style>#sk-container-id-3 {color: black;background-color: white;}#sk-container-id-3 pre{padding: 0;}#sk-container-id-3 div.sk-toggleable {background-color: white;}#sk-container-id-3 label.sk-toggleable__label {cursor: pointer;display: block;width: 100%;margin-bottom: 0;padding: 0.3em;box-sizing: border-box;text-align: center;}#sk-container-id-3 label.sk-toggleable__label-arrow:before {content: \"▸\";float: left;margin-right: 0.25em;color: #696969;}#sk-container-id-3 label.sk-toggleable__label-arrow:hover:before {color: black;}#sk-container-id-3 div.sk-estimator:hover label.sk-toggleable__label-arrow:before {color: black;}#sk-container-id-3 div.sk-toggleable__content {max-height: 0;max-width: 0;overflow: hidden;text-align: left;background-color: #f0f8ff;}#sk-container-id-3 div.sk-toggleable__content pre {margin: 0.2em;color: black;border-radius: 0.25em;background-color: #f0f8ff;}#sk-container-id-3 input.sk-toggleable__control:checked~div.sk-toggleable__content {max-height: 200px;max-width: 100%;overflow: auto;}#sk-container-id-3 input.sk-toggleable__control:checked~label.sk-toggleable__label-arrow:before {content: \"▾\";}#sk-container-id-3 div.sk-estimator input.sk-toggleable__control:checked~label.sk-toggleable__label {background-color: #d4ebff;}#sk-container-id-3 div.sk-label input.sk-toggleable__control:checked~label.sk-toggleable__label {background-color: #d4ebff;}#sk-container-id-3 input.sk-hidden--visually {border: 0;clip: rect(1px 1px 1px 1px);clip: rect(1px, 1px, 1px, 1px);height: 1px;margin: -1px;overflow: hidden;padding: 0;position: absolute;width: 1px;}#sk-container-id-3 div.sk-estimator {font-family: monospace;background-color: #f0f8ff;border: 1px dotted black;border-radius: 0.25em;box-sizing: border-box;margin-bottom: 0.5em;}#sk-container-id-3 div.sk-estimator:hover {background-color: #d4ebff;}#sk-container-id-3 div.sk-parallel-item::after {content: \"\";width: 100%;border-bottom: 1px solid gray;flex-grow: 1;}#sk-container-id-3 div.sk-label:hover label.sk-toggleable__label {background-color: #d4ebff;}#sk-container-id-3 div.sk-serial::before {content: \"\";position: absolute;border-left: 1px solid gray;box-sizing: border-box;top: 0;bottom: 0;left: 50%;z-index: 0;}#sk-container-id-3 div.sk-serial {display: flex;flex-direction: column;align-items: center;background-color: white;padding-right: 0.2em;padding-left: 0.2em;position: relative;}#sk-container-id-3 div.sk-item {position: relative;z-index: 1;}#sk-container-id-3 div.sk-parallel {display: flex;align-items: stretch;justify-content: center;background-color: white;position: relative;}#sk-container-id-3 div.sk-item::before, #sk-container-id-3 div.sk-parallel-item::before {content: \"\";position: absolute;border-left: 1px solid gray;box-sizing: border-box;top: 0;bottom: 0;left: 50%;z-index: -1;}#sk-container-id-3 div.sk-parallel-item {display: flex;flex-direction: column;z-index: 1;position: relative;background-color: white;}#sk-container-id-3 div.sk-parallel-item:first-child::after {align-self: flex-end;width: 50%;}#sk-container-id-3 div.sk-parallel-item:last-child::after {align-self: flex-start;width: 50%;}#sk-container-id-3 div.sk-parallel-item:only-child::after {width: 0;}#sk-container-id-3 div.sk-dashed-wrapped {border: 1px dashed gray;margin: 0 0.4em 0.5em 0.4em;box-sizing: border-box;padding-bottom: 0.4em;background-color: white;}#sk-container-id-3 div.sk-label label {font-family: monospace;font-weight: bold;display: inline-block;line-height: 1.2em;}#sk-container-id-3 div.sk-label-container {text-align: center;}#sk-container-id-3 div.sk-container {/* jupyter's `normalize.less` sets `[hidden] { display: none; }` but bootstrap.min.css set `[hidden] { display: none !important; }` so we also need the `!important` here to be able to override the default hidden behavior on the sphinx rendered scikit-learn.org. See: https://github.com/scikit-learn/scikit-learn/issues/21755 */display: inline-block !important;position: relative;}#sk-container-id-3 div.sk-text-repr-fallback {display: none;}</style><div id=\"sk-container-id-3\" class=\"sk-top-container\"><div class=\"sk-text-repr-fallback\"><pre>Pipeline(steps=[(&#x27;scaler&#x27;, StandardScaler()), (&#x27;pca&#x27;, PCA(n_components=4)),\n",
       "                (&#x27;regressor&#x27;, RandomForestRegressor(random_state=42))])</pre><b>In a Jupyter environment, please rerun this cell to show the HTML representation or trust the notebook. <br />On GitHub, the HTML representation is unable to render, please try loading this page with nbviewer.org.</b></div><div class=\"sk-container\" hidden><div class=\"sk-item sk-dashed-wrapped\"><div class=\"sk-label-container\"><div class=\"sk-label sk-toggleable\"><input class=\"sk-toggleable__control sk-hidden--visually\" id=\"sk-estimator-id-8\" type=\"checkbox\" ><label for=\"sk-estimator-id-8\" class=\"sk-toggleable__label sk-toggleable__label-arrow\">Pipeline</label><div class=\"sk-toggleable__content\"><pre>Pipeline(steps=[(&#x27;scaler&#x27;, StandardScaler()), (&#x27;pca&#x27;, PCA(n_components=4)),\n",
       "                (&#x27;regressor&#x27;, RandomForestRegressor(random_state=42))])</pre></div></div></div><div class=\"sk-serial\"><div class=\"sk-item\"><div class=\"sk-estimator sk-toggleable\"><input class=\"sk-toggleable__control sk-hidden--visually\" id=\"sk-estimator-id-9\" type=\"checkbox\" ><label for=\"sk-estimator-id-9\" class=\"sk-toggleable__label sk-toggleable__label-arrow\">StandardScaler</label><div class=\"sk-toggleable__content\"><pre>StandardScaler()</pre></div></div></div><div class=\"sk-item\"><div class=\"sk-estimator sk-toggleable\"><input class=\"sk-toggleable__control sk-hidden--visually\" id=\"sk-estimator-id-10\" type=\"checkbox\" ><label for=\"sk-estimator-id-10\" class=\"sk-toggleable__label sk-toggleable__label-arrow\">PCA</label><div class=\"sk-toggleable__content\"><pre>PCA(n_components=4)</pre></div></div></div><div class=\"sk-item\"><div class=\"sk-estimator sk-toggleable\"><input class=\"sk-toggleable__control sk-hidden--visually\" id=\"sk-estimator-id-11\" type=\"checkbox\" ><label for=\"sk-estimator-id-11\" class=\"sk-toggleable__label sk-toggleable__label-arrow\">RandomForestRegressor</label><div class=\"sk-toggleable__content\"><pre>RandomForestRegressor(random_state=42)</pre></div></div></div></div></div></div></div>"
      ],
      "text/plain": [
       "Pipeline(steps=[('scaler', StandardScaler()), ('pca', PCA(n_components=4)),\n",
       "                ('regressor', RandomForestRegressor(random_state=42))])"
      ]
     },
     "execution_count": 50,
     "metadata": {},
     "output_type": "execute_result"
    }
   ],
   "source": [
    "reg_pipeline.fit(X_train, y_reg_train)"
   ]
  },
  {
   "cell_type": "code",
   "execution_count": 51,
   "metadata": {},
   "outputs": [
    {
     "name": "stdout",
     "output_type": "stream",
     "text": [
      "Regression Mean Absolute Percentage Error: 13.428071492017878%\n"
     ]
    }
   ],
   "source": [
    "y_reg_pred = reg_pipeline.predict(X_test)\n",
    "reg_mape = np.mean(np.abs((y_reg_test - y_reg_pred) / y_reg_test)) * 100\n",
    "print(f'Regression Mean Absolute Percentage Error: {reg_mape}%')"
   ]
  },
  {
   "cell_type": "code",
   "execution_count": 52,
   "metadata": {},
   "outputs": [],
   "source": [
    "clf_pipeline = Pipeline([\n",
    "    ('scaler', StandardScaler()),\n",
    "    ('classifier', GradientBoostingClassifier(n_estimators=100, random_state=42))\n",
    "])"
   ]
  },
  {
   "cell_type": "code",
   "execution_count": 53,
   "metadata": {},
   "outputs": [
    {
     "data": {
      "text/html": [
       "<style>#sk-container-id-4 {color: black;background-color: white;}#sk-container-id-4 pre{padding: 0;}#sk-container-id-4 div.sk-toggleable {background-color: white;}#sk-container-id-4 label.sk-toggleable__label {cursor: pointer;display: block;width: 100%;margin-bottom: 0;padding: 0.3em;box-sizing: border-box;text-align: center;}#sk-container-id-4 label.sk-toggleable__label-arrow:before {content: \"▸\";float: left;margin-right: 0.25em;color: #696969;}#sk-container-id-4 label.sk-toggleable__label-arrow:hover:before {color: black;}#sk-container-id-4 div.sk-estimator:hover label.sk-toggleable__label-arrow:before {color: black;}#sk-container-id-4 div.sk-toggleable__content {max-height: 0;max-width: 0;overflow: hidden;text-align: left;background-color: #f0f8ff;}#sk-container-id-4 div.sk-toggleable__content pre {margin: 0.2em;color: black;border-radius: 0.25em;background-color: #f0f8ff;}#sk-container-id-4 input.sk-toggleable__control:checked~div.sk-toggleable__content {max-height: 200px;max-width: 100%;overflow: auto;}#sk-container-id-4 input.sk-toggleable__control:checked~label.sk-toggleable__label-arrow:before {content: \"▾\";}#sk-container-id-4 div.sk-estimator input.sk-toggleable__control:checked~label.sk-toggleable__label {background-color: #d4ebff;}#sk-container-id-4 div.sk-label input.sk-toggleable__control:checked~label.sk-toggleable__label {background-color: #d4ebff;}#sk-container-id-4 input.sk-hidden--visually {border: 0;clip: rect(1px 1px 1px 1px);clip: rect(1px, 1px, 1px, 1px);height: 1px;margin: -1px;overflow: hidden;padding: 0;position: absolute;width: 1px;}#sk-container-id-4 div.sk-estimator {font-family: monospace;background-color: #f0f8ff;border: 1px dotted black;border-radius: 0.25em;box-sizing: border-box;margin-bottom: 0.5em;}#sk-container-id-4 div.sk-estimator:hover {background-color: #d4ebff;}#sk-container-id-4 div.sk-parallel-item::after {content: \"\";width: 100%;border-bottom: 1px solid gray;flex-grow: 1;}#sk-container-id-4 div.sk-label:hover label.sk-toggleable__label {background-color: #d4ebff;}#sk-container-id-4 div.sk-serial::before {content: \"\";position: absolute;border-left: 1px solid gray;box-sizing: border-box;top: 0;bottom: 0;left: 50%;z-index: 0;}#sk-container-id-4 div.sk-serial {display: flex;flex-direction: column;align-items: center;background-color: white;padding-right: 0.2em;padding-left: 0.2em;position: relative;}#sk-container-id-4 div.sk-item {position: relative;z-index: 1;}#sk-container-id-4 div.sk-parallel {display: flex;align-items: stretch;justify-content: center;background-color: white;position: relative;}#sk-container-id-4 div.sk-item::before, #sk-container-id-4 div.sk-parallel-item::before {content: \"\";position: absolute;border-left: 1px solid gray;box-sizing: border-box;top: 0;bottom: 0;left: 50%;z-index: -1;}#sk-container-id-4 div.sk-parallel-item {display: flex;flex-direction: column;z-index: 1;position: relative;background-color: white;}#sk-container-id-4 div.sk-parallel-item:first-child::after {align-self: flex-end;width: 50%;}#sk-container-id-4 div.sk-parallel-item:last-child::after {align-self: flex-start;width: 50%;}#sk-container-id-4 div.sk-parallel-item:only-child::after {width: 0;}#sk-container-id-4 div.sk-dashed-wrapped {border: 1px dashed gray;margin: 0 0.4em 0.5em 0.4em;box-sizing: border-box;padding-bottom: 0.4em;background-color: white;}#sk-container-id-4 div.sk-label label {font-family: monospace;font-weight: bold;display: inline-block;line-height: 1.2em;}#sk-container-id-4 div.sk-label-container {text-align: center;}#sk-container-id-4 div.sk-container {/* jupyter's `normalize.less` sets `[hidden] { display: none; }` but bootstrap.min.css set `[hidden] { display: none !important; }` so we also need the `!important` here to be able to override the default hidden behavior on the sphinx rendered scikit-learn.org. See: https://github.com/scikit-learn/scikit-learn/issues/21755 */display: inline-block !important;position: relative;}#sk-container-id-4 div.sk-text-repr-fallback {display: none;}</style><div id=\"sk-container-id-4\" class=\"sk-top-container\"><div class=\"sk-text-repr-fallback\"><pre>Pipeline(steps=[(&#x27;scaler&#x27;, StandardScaler()),\n",
       "                (&#x27;classifier&#x27;, GradientBoostingClassifier(random_state=42))])</pre><b>In a Jupyter environment, please rerun this cell to show the HTML representation or trust the notebook. <br />On GitHub, the HTML representation is unable to render, please try loading this page with nbviewer.org.</b></div><div class=\"sk-container\" hidden><div class=\"sk-item sk-dashed-wrapped\"><div class=\"sk-label-container\"><div class=\"sk-label sk-toggleable\"><input class=\"sk-toggleable__control sk-hidden--visually\" id=\"sk-estimator-id-12\" type=\"checkbox\" ><label for=\"sk-estimator-id-12\" class=\"sk-toggleable__label sk-toggleable__label-arrow\">Pipeline</label><div class=\"sk-toggleable__content\"><pre>Pipeline(steps=[(&#x27;scaler&#x27;, StandardScaler()),\n",
       "                (&#x27;classifier&#x27;, GradientBoostingClassifier(random_state=42))])</pre></div></div></div><div class=\"sk-serial\"><div class=\"sk-item\"><div class=\"sk-estimator sk-toggleable\"><input class=\"sk-toggleable__control sk-hidden--visually\" id=\"sk-estimator-id-13\" type=\"checkbox\" ><label for=\"sk-estimator-id-13\" class=\"sk-toggleable__label sk-toggleable__label-arrow\">StandardScaler</label><div class=\"sk-toggleable__content\"><pre>StandardScaler()</pre></div></div></div><div class=\"sk-item\"><div class=\"sk-estimator sk-toggleable\"><input class=\"sk-toggleable__control sk-hidden--visually\" id=\"sk-estimator-id-14\" type=\"checkbox\" ><label for=\"sk-estimator-id-14\" class=\"sk-toggleable__label sk-toggleable__label-arrow\">GradientBoostingClassifier</label><div class=\"sk-toggleable__content\"><pre>GradientBoostingClassifier(random_state=42)</pre></div></div></div></div></div></div></div>"
      ],
      "text/plain": [
       "Pipeline(steps=[('scaler', StandardScaler()),\n",
       "                ('classifier', GradientBoostingClassifier(random_state=42))])"
      ]
     },
     "execution_count": 53,
     "metadata": {},
     "output_type": "execute_result"
    }
   ],
   "source": [
    "clf_pipeline.fit(X_train, y_clf_train)"
   ]
  },
  {
   "cell_type": "code",
   "execution_count": 54,
   "metadata": {},
   "outputs": [
    {
     "name": "stdout",
     "output_type": "stream",
     "text": [
      "Classification Accuracy: 0.738394402227071\n",
      "Classification Report:\n",
      "              precision    recall  f1-score   support\n",
      "\n",
      "        high       0.80      0.71      0.75      3758\n",
      "         low       0.75      0.56      0.64      2793\n",
      "      medium       0.71      0.83      0.76      6740\n",
      "\n",
      "    accuracy                           0.74     13291\n",
      "   macro avg       0.75      0.70      0.72     13291\n",
      "weighted avg       0.74      0.74      0.74     13291\n",
      "\n"
     ]
    }
   ],
   "source": [
    "y_clf_pred = clf_pipeline.predict(X_test)\n",
    "clf_accuracy = accuracy_score(y_clf_test, y_clf_pred)\n",
    "print(f'Classification Accuracy: {clf_accuracy}')\n",
    "print('Classification Report:')\n",
    "print(classification_report(y_clf_test, y_clf_pred))"
   ]
  },
  {
   "cell_type": "code",
   "execution_count": 55,
   "metadata": {},
   "outputs": [
    {
     "name": "stdout",
     "output_type": "stream",
     "text": [
      "      champion  kills  deaths  assists  firstbloodkill  firstbloodassist  \\\n",
      "4115        83      1       1        9             0.0               0.0   \n",
      "\n",
      "      firstbloodvictim  \n",
      "4115               0.0  \n",
      "      champion  kills  deaths  assists  firstbloodkill  firstbloodassist  \\\n",
      "4115        83      1       1        9             0.0               0.0   \n",
      "\n",
      "      firstbloodvictim  earned gpm gpm_range  \n",
      "4115               0.0    286.1782    medium  \n"
     ]
    }
   ],
   "source": [
    "sample_row = sample_set.sample(n=1)\n",
    "# print(sample_row)\n",
    "sample_test = sample_row[features]\n",
    "sample_answer = sample_row[features + ['earned gpm', 'gpm_range']]\n",
    "print(sample_test)\n",
    "print(sample_answer)"
   ]
  },
  {
   "cell_type": "code",
   "execution_count": 56,
   "metadata": {},
   "outputs": [
    {
     "name": "stdout",
     "output_type": "stream",
     "text": [
      "Sample Prediction (Regression): [305.45459111]\n",
      "Sample Prediction (Classification): ['medium']\n",
      "Actual Value: 286.1782\n",
      "Classification: medium\n"
     ]
    }
   ],
   "source": [
    "sample_pred_reg = reg_pipeline.predict(sample_test)\n",
    "sample_pred_clf = clf_pipeline.predict(sample_test)\n",
    "print(f'Sample Prediction (Regression): {sample_pred_reg}')\n",
    "print(f'Sample Prediction (Classification): {sample_pred_clf}')\n",
    "\n",
    "print(f'Actual Value: {sample_row[\"earned gpm\"].values[0]}')\n",
    "print(f'Classification: {sample_row[\"gpm_range\"].values[0]}')\n"
   ]
  }
 ],
 "metadata": {
  "kernelspec": {
   "display_name": "Python 3",
   "language": "python",
   "name": "python3"
  },
  "language_info": {
   "codemirror_mode": {
    "name": "ipython",
    "version": 3
   },
   "file_extension": ".py",
   "mimetype": "text/x-python",
   "name": "python",
   "nbconvert_exporter": "python",
   "pygments_lexer": "ipython3",
   "version": "3.10.11"
  }
 },
 "nbformat": 4,
 "nbformat_minor": 2
}
